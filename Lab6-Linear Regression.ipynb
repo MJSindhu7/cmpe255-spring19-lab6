{
 "cells": [
  {
   "cell_type": "code",
   "execution_count": 128,
   "metadata": {},
   "outputs": [],
   "source": [
    "import numpy as np\n",
    "import matplotlib\n",
    "import matplotlib.pyplot as plt\n",
    "import scipy"
   ]
  },
  {
   "cell_type": "code",
   "execution_count": 129,
   "metadata": {},
   "outputs": [
    {
     "name": "stdout",
     "output_type": "stream",
     "text": [
      "Deaths Dependent variable\n",
      "Age is independent variable\n"
     ]
    }
   ],
   "source": [
    "Age = np.array([[17.5], [22], [29.5], [44.5], [64.5], [80]])\n",
    "Nd = np.array([[38], [36], [24], [20], [18], [28]])\n",
    "print(\"Deaths Dependent variable\")\n",
    "print(\"Age is independent variable\")"
   ]
  },
  {
   "cell_type": "code",
   "execution_count": 130,
   "metadata": {},
   "outputs": [
    {
     "name": "stdout",
     "output_type": "stream",
     "text": [
      "theta_best -  [[35.58180453]\n",
      " [-0.19182491]]\n"
     ]
    }
   ],
   "source": [
    "X_b = np.c_[np.ones((6, 1)), Age]  \n",
    "theta_best = np.linalg.inv(X_b.T.dot(X_b)).dot(X_b.T).dot(Nd)\n",
    "print(\"theta_best - \", theta_best)"
   ]
  },
  {
   "cell_type": "code",
   "execution_count": 131,
   "metadata": {},
   "outputs": [
    {
     "data": {
      "image/png": "[encoded data removed]",
      "text/plain": [
       "<Figure size 432x288 with 1 Axes>"
      ]
     },
     "metadata": {
      "needs_background": "light"
     },
     "output_type": "display_data"
    }
   ],
   "source": [
    "import matplotlib.pyplot as plt\n",
    "plt.plot(Age, Nd, \"b.\")\n",
    "plt.xlabel(\"Age\", fontsize=18)\n",
    "plt.ylabel(\"Nd\", rotation=0, fontsize=18)\n",
    "plt.axis([15, 85, 15, 50])\n",
    "plt.show()"
   ]
  },
  {
   "cell_type": "code",
   "execution_count": 132,
   "metadata": {},
   "outputs": [
    {
     "name": "stdout",
     "output_type": "stream",
     "text": [
      "y =  [35.58180453] + [-0.19182491] x\n"
     ]
    }
   ],
   "source": [
    "print(\"y = \",theta_best[0],\"+\",theta_best[1],\"x\")"
   ]
  },
  {
   "cell_type": "code",
   "execution_count": 133,
   "metadata": {},
   "outputs": [
    {
     "data": {
      "image/png": "[encoded data removed]",
      "text/plain": [
       "<Figure size 432x288 with 1 Axes>"
      ]
     },
     "metadata": {
      "needs_background": "light"
     },
     "output_type": "display_data"
    }
   ],
   "source": [
    "plt.plot(X_new, y_predict, \"r-\", linewidth=2, label=\"Predictions\")\n",
    "plt.plot(Age, Nd, \"b.\")\n",
    "plt.xlabel(\"$AGE_1$\", fontsize=18)\n",
    "plt.ylabel(\"$Nd$\", rotation=0, fontsize=18)\n",
    "plt.legend(loc=\"upper left\", fontsize=14)\n",
    "plt.axis([15, 85, 15, 50])\n",
    "plt.show()"
   ]
  },
  {
   "cell_type": "code",
   "execution_count": 134,
   "metadata": {},
   "outputs": [
    {
     "name": "stdout",
     "output_type": "stream",
     "text": [
      "Prediction of deaths at the age of 40 -  [27.90880807]\n",
      "Prediction of deaths at the age of 60 -  [24.07230984]\n"
     ]
    }
   ],
   "source": [
    "print(\"Prediction of deaths at the age of 40 - \",theta_best[0]+theta_best[1]*40)\n",
    "print(\"Prediction of deaths at the age of 60 - \",theta_best[0]+theta_best[1]*60)"
   ]
  },
  {
   "cell_type": "code",
   "execution_count": 135,
   "metadata": {},
   "outputs": [
    {
     "name": "stdout",
     "output_type": "stream",
     "text": [
      "correlation coefficient - [-0.57874371]\n",
      "Pearson's r is negitive. There is no significant relation ship b/w Age and deaths!!\n"
     ]
    }
   ],
   "source": [
    "from scipy.stats.stats import pearsonr\n",
    "p = pearsonr(Age, Nd)\n",
    "print(\"correlation coefficient -\",p[0])\n",
    "print(\"Pearson's r is negitive. There is no significant relation ship b/w Age and deaths!!\")"
   ]
  },
  {
   "cell_type": "code",
   "execution_count": null,
   "metadata": {},
   "outputs": [],
   "source": []
  }
 ],
 "metadata": {
  "kernelspec": {
   "display_name": "Python 3",
   "language": "python",
   "name": "python3"
  },
  "language_info": {
   "codemirror_mode": {
    "name": "ipython",
    "version": 3
   },
   "file_extension": ".py",
   "mimetype": "text/x-python",
   "name": "python",
   "nbconvert_exporter": "python",
   "pygments_lexer": "ipython3",
   "version": "3.7.2"
  }
 },
 "nbformat": 4,
 "nbformat_minor": 2
}
